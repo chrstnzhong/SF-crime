{
 "cells": [
  {
   "cell_type": "markdown",
   "metadata": {},
   "source": [
    "# Introduction\n",
    "I am interested in exploring how COVID-19 and the lockdowns in San Franciso affected the amount of crime in the city. I will be comparing crime reports in 2020 with those in 2018 and 2019. Specifically I am interested in looking at:\n",
    "1. The amount of crime reported in the city and how it changed throughout 2020\n",
    "2. The change in the category of crime being committed \n",
    "3. How the trend of when crimes usually take place changes with the lockdowns\n",
    "\n",
    "Dataset from DataSF: https://data.sfgov.org/Public-Safety/Police-Department-Incident-Reports-2018-to-Present/wg3w-h783"
   ]
  },
  {
   "cell_type": "markdown",
   "metadata": {},
   "source": [
    "# Import Packages"
   ]
  },
  {
   "cell_type": "code",
   "execution_count": 150,
   "metadata": {},
   "outputs": [],
   "source": [
    "import pandas as pd\n",
    "import numpy as np\n",
    "import seaborn as sns\n",
    "import matplotlib.pyplot as plt\n",
    "%matplotlib inline\n",
    "import warnings\n",
    "warnings.filterwarnings('ignore')"
   ]
  },
  {
   "cell_type": "markdown",
   "metadata": {},
   "source": [
    "# Explore and Clean the Data"
   ]
  },
  {
   "cell_type": "code",
   "execution_count": 151,
   "metadata": {
    "scrolled": true
   },
   "outputs": [
    {
     "name": "stdout",
     "output_type": "stream",
     "text": [
      "The dataset has 36 columns and 422717 rows\n",
      "**************************************************\n",
      "<class 'pandas.core.frame.DataFrame'>\n",
      "RangeIndex: 422717 entries, 0 to 422716\n",
      "Data columns (total 36 columns):\n",
      " #   Column                                                Non-Null Count   Dtype  \n",
      "---  ------                                                --------------   -----  \n",
      " 0   Incident Datetime                                     422717 non-null  object \n",
      " 1   Incident Date                                         422717 non-null  object \n",
      " 2   Incident Time                                         422717 non-null  object \n",
      " 3   Incident Year                                         422717 non-null  int64  \n",
      " 4   Incident Day of Week                                  422717 non-null  object \n",
      " 5   Report Datetime                                       422717 non-null  object \n",
      " 6   Row ID                                                422717 non-null  int64  \n",
      " 7   Incident ID                                           422717 non-null  int64  \n",
      " 8   Incident Number                                       422717 non-null  int64  \n",
      " 9   CAD Number                                            329264 non-null  float64\n",
      " 10  Report Type Code                                      422717 non-null  object \n",
      " 11  Report Type Description                               422717 non-null  object \n",
      " 12  Filed Online                                          85852 non-null   object \n",
      " 13  Incident Code                                         422717 non-null  int64  \n",
      " 14  Incident Category                                     422386 non-null  object \n",
      " 15  Incident Subcategory                                  422386 non-null  object \n",
      " 16  Incident Description                                  422717 non-null  object \n",
      " 17  Resolution                                            422717 non-null  object \n",
      " 18  Intersection                                          401162 non-null  object \n",
      " 19  CNN                                                   401162 non-null  float64\n",
      " 20  Police District                                       422717 non-null  object \n",
      " 21  Analysis Neighborhood                                 401068 non-null  object \n",
      " 22  Supervisor District                                   401162 non-null  float64\n",
      " 23  Latitude                                              401162 non-null  float64\n",
      " 24  Longitude                                             401162 non-null  float64\n",
      " 25  point                                                 401162 non-null  object \n",
      " 26  SF Find Neighborhoods                                 392523 non-null  float64\n",
      " 27  Current Police Districts                              400596 non-null  float64\n",
      " 28  Current Supervisor Districts                          401082 non-null  float64\n",
      " 29  Analysis Neighborhoods                                400988 non-null  float64\n",
      " 30  HSOC Zones as of 2018-06-05                           92108 non-null   float64\n",
      " 31  OWED Public Spaces                                    19779 non-null   float64\n",
      " 32  Central Market/Tenderloin Boundary Polygon - Updated  55368 non-null   float64\n",
      " 33  Parks Alliance CPSI (27+TL sites)                     4712 non-null    float64\n",
      " 34  ESNCAG - Boundary File                                4509 non-null    float64\n",
      " 35  Areas of Vulnerability, 2016                          400988 non-null  float64\n",
      "dtypes: float64(15), int64(5), object(16)\n",
      "memory usage: 116.1+ MB\n"
     ]
    }
   ],
   "source": [
    "df = pd.read_csv('SF_Crime.csv')\n",
    "print(f\"The dataset has {df.shape[1]} columns and {df.shape[0]} rows\")\n",
    "print(\"*****\"*10)\n",
    "df.info()"
   ]
  },
  {
   "cell_type": "markdown",
   "metadata": {},
   "source": [
    "### Description of Columns\n",
    "|Column Name|Description|\n",
    "|:--- |:--- |\n",
    "|Incident Datetime|The date and time when the incident occurred|\n",
    "|Incident Date|The date the incident occurred|\n",
    "|Incident Time|The time the incident occurred|\n",
    "|Incident Year|The year the incident occurred, provided as a convenience for filtering|\n",
    "|Incident Day of Week|The day of week the incident occurred|\n",
    "|Report Datetime|Distinct from Incident Datetime, Report Datetime is when the report was filed.|\n",
    "|Row ID|A unique identifier for each row of data in the dataset|\n",
    "|Incident ID|This is the system generated identifier for incident reports. Incident IDs and Incident Numbers both uniquely identify reports, but Incident Numbers are used when referencing cases and report documents.|\n",
    "|Incident Number|The number issued on the report, sometimes interchangeably referred to as the Case Number. This number is used to reference cases and report documents.|\n",
    "|CAD Number|The Computer Aided Dispatch (CAD) is the system used by the Department of Emergency Management (DEM) to dispatch officers and other public safety personnel. CAD Numbers are assigned by the DEM system and linked to relevant incident reports (Incident Number). Not all Incidents will have a CAD Number. Those filed online via Coplogic (refer to “Filed Online” field) and others not filed through the DEM system will not have CAD Numbers.|\n",
    "|Report Type Code|A system code for report types, these have corresponding descriptions within the dataset.|\n",
    "|Report Type Description|The description of the report type, can be one of: Initial; Initial Supplement; Vehicle Initial; Vehicle Supplement; Coplogic Initial; Coplogic Supplement|\n",
    "|Filed Online|Non- emergency police reports can be filed online by members of the public using SFPD’s self-service reporting system called Coplogic Values in this field will be “TRUE” if Coplogic was used to file the report.|\n",
    "|Incident Code|Incident Codes are the system codes to describe a type of incident. A single incident report can have one or more incident types associated. In those cases you will see multiple rows representing a unique combination of the Incident ID and Incident Code.|\n",
    "|Incident Category|A category mapped on to the Incident Code used in statistics and reporting. Mappings provided by the Crime Analysis Unit of the Police Department.|\n",
    "|Incident Subcategory|A subcategory mapped to the Incident Code that is used for statistics and reporting. Mappings are provided by the Crime Analysis Unit of the Police Department.|\n",
    "|Incident Description|The description of the incident that corresponds with the Incident Code. These are generally self-explanatory.|\n",
    "|Resolution|The resolution of the incident at the time of the report. Can be one of: • Cite or Arrest Adult • Cite or Arrest Juvenile* • Exceptional Adult • Exceptional Juvenile* • Open or Active •|\n",
    "|Intersection|The 2 or more street names that intersect closest to the original incident separated by a backward slash (\\). Note, the possible intersections will only include those that satisfy the privacy controls.|\n",
    "|CNN|The unique identifier of the intersection for reference back to other related basemap datasets.|\n",
    "|Police District|The Police District where the incident occurred. |\n",
    "|Analysis Neighborhood|This field is used to identify the neighborhood where each incident occurs. Neighborhoods and boundaries are defined by the Department of Public Health and the Mayor's Office of Housing and Community Development.|\n",
    "|Supervisor District|There are 11 members elected to the Board of Supervisors in San Francisco, each representing a geographic district. The Board of Supervisors is the legislative body for San Francisco. The districts are numbered 1 through 11.|\n",
    "|Latitude|The latitude coordinate in WGS84, spatial reference is EPSG:4326|\n",
    "|Longitude|The longitude coordinate in WGS84, spatial reference is EPSG:4326|\n",
    "|point|The point geometry used for mapping features in the open data portal platform. Latitude and Longitude are provided separately as well as a convenience.|\n"
   ]
  },
  {
   "cell_type": "code",
   "execution_count": 152,
   "metadata": {},
   "outputs": [
    {
     "data": {
      "text/html": [
       "<div>\n",
       "<style scoped>\n",
       "    .dataframe tbody tr th:only-of-type {\n",
       "        vertical-align: middle;\n",
       "    }\n",
       "\n",
       "    .dataframe tbody tr th {\n",
       "        vertical-align: top;\n",
       "    }\n",
       "\n",
       "    .dataframe thead th {\n",
       "        text-align: right;\n",
       "    }\n",
       "</style>\n",
       "<table border=\"1\" class=\"dataframe\">\n",
       "  <thead>\n",
       "    <tr style=\"text-align: right;\">\n",
       "      <th></th>\n",
       "      <th>Incident Datetime</th>\n",
       "      <th>Incident Date</th>\n",
       "      <th>Incident Time</th>\n",
       "      <th>Incident Year</th>\n",
       "      <th>Incident Day of Week</th>\n",
       "      <th>Report Datetime</th>\n",
       "      <th>Row ID</th>\n",
       "      <th>Incident ID</th>\n",
       "      <th>Incident Number</th>\n",
       "      <th>CAD Number</th>\n",
       "      <th>...</th>\n",
       "      <th>SF Find Neighborhoods</th>\n",
       "      <th>Current Police Districts</th>\n",
       "      <th>Current Supervisor Districts</th>\n",
       "      <th>Analysis Neighborhoods</th>\n",
       "      <th>HSOC Zones as of 2018-06-05</th>\n",
       "      <th>OWED Public Spaces</th>\n",
       "      <th>Central Market/Tenderloin Boundary Polygon - Updated</th>\n",
       "      <th>Parks Alliance CPSI (27+TL sites)</th>\n",
       "      <th>ESNCAG - Boundary File</th>\n",
       "      <th>Areas of Vulnerability, 2016</th>\n",
       "    </tr>\n",
       "  </thead>\n",
       "  <tbody>\n",
       "    <tr>\n",
       "      <th>0</th>\n",
       "      <td>2018/01/01 09:26:00 AM</td>\n",
       "      <td>2018/01/01</td>\n",
       "      <td>09:26</td>\n",
       "      <td>2018</td>\n",
       "      <td>Monday</td>\n",
       "      <td>2018/01/01 09:27:00 AM</td>\n",
       "      <td>61893007041</td>\n",
       "      <td>618930</td>\n",
       "      <td>171052174</td>\n",
       "      <td>173641140.0</td>\n",
       "      <td>...</td>\n",
       "      <td>88.0</td>\n",
       "      <td>2.0</td>\n",
       "      <td>9.0</td>\n",
       "      <td>1.0</td>\n",
       "      <td>NaN</td>\n",
       "      <td>NaN</td>\n",
       "      <td>NaN</td>\n",
       "      <td>NaN</td>\n",
       "      <td>NaN</td>\n",
       "      <td>2.0</td>\n",
       "    </tr>\n",
       "    <tr>\n",
       "      <th>1</th>\n",
       "      <td>2018/01/01 02:30:00 AM</td>\n",
       "      <td>2018/01/01</td>\n",
       "      <td>02:30</td>\n",
       "      <td>2018</td>\n",
       "      <td>Monday</td>\n",
       "      <td>2018/01/01 08:21:00 AM</td>\n",
       "      <td>61893105041</td>\n",
       "      <td>618931</td>\n",
       "      <td>180000768</td>\n",
       "      <td>180010668.0</td>\n",
       "      <td>...</td>\n",
       "      <td>90.0</td>\n",
       "      <td>9.0</td>\n",
       "      <td>1.0</td>\n",
       "      <td>7.0</td>\n",
       "      <td>NaN</td>\n",
       "      <td>NaN</td>\n",
       "      <td>NaN</td>\n",
       "      <td>NaN</td>\n",
       "      <td>NaN</td>\n",
       "      <td>2.0</td>\n",
       "    </tr>\n",
       "    <tr>\n",
       "      <th>2</th>\n",
       "      <td>2018/01/01 10:00:00 AM</td>\n",
       "      <td>2018/01/01</td>\n",
       "      <td>10:00</td>\n",
       "      <td>2018</td>\n",
       "      <td>Monday</td>\n",
       "      <td>2018/01/01 10:20:00 AM</td>\n",
       "      <td>61893275000</td>\n",
       "      <td>618932</td>\n",
       "      <td>180000605</td>\n",
       "      <td>180010893.0</td>\n",
       "      <td>...</td>\n",
       "      <td>20.0</td>\n",
       "      <td>4.0</td>\n",
       "      <td>10.0</td>\n",
       "      <td>36.0</td>\n",
       "      <td>NaN</td>\n",
       "      <td>NaN</td>\n",
       "      <td>1.0</td>\n",
       "      <td>NaN</td>\n",
       "      <td>NaN</td>\n",
       "      <td>2.0</td>\n",
       "    </tr>\n",
       "    <tr>\n",
       "      <th>3</th>\n",
       "      <td>2018/01/01 10:03:00 AM</td>\n",
       "      <td>2018/01/01</td>\n",
       "      <td>10:03</td>\n",
       "      <td>2018</td>\n",
       "      <td>Monday</td>\n",
       "      <td>2018/01/01 10:04:00 AM</td>\n",
       "      <td>61893565015</td>\n",
       "      <td>618935</td>\n",
       "      <td>180000887</td>\n",
       "      <td>180011579.0</td>\n",
       "      <td>...</td>\n",
       "      <td>NaN</td>\n",
       "      <td>9.0</td>\n",
       "      <td>1.0</td>\n",
       "      <td>28.0</td>\n",
       "      <td>NaN</td>\n",
       "      <td>NaN</td>\n",
       "      <td>NaN</td>\n",
       "      <td>NaN</td>\n",
       "      <td>NaN</td>\n",
       "      <td>1.0</td>\n",
       "    </tr>\n",
       "    <tr>\n",
       "      <th>4</th>\n",
       "      <td>2018/01/01 09:01:00 AM</td>\n",
       "      <td>2018/01/01</td>\n",
       "      <td>09:01</td>\n",
       "      <td>2018</td>\n",
       "      <td>Monday</td>\n",
       "      <td>2018/01/01 09:39:00 AM</td>\n",
       "      <td>61893607041</td>\n",
       "      <td>618936</td>\n",
       "      <td>171052958</td>\n",
       "      <td>180011403.0</td>\n",
       "      <td>...</td>\n",
       "      <td>106.0</td>\n",
       "      <td>6.0</td>\n",
       "      <td>3.0</td>\n",
       "      <td>6.0</td>\n",
       "      <td>NaN</td>\n",
       "      <td>NaN</td>\n",
       "      <td>NaN</td>\n",
       "      <td>NaN</td>\n",
       "      <td>NaN</td>\n",
       "      <td>2.0</td>\n",
       "    </tr>\n",
       "  </tbody>\n",
       "</table>\n",
       "<p>5 rows × 36 columns</p>\n",
       "</div>"
      ],
      "text/plain": [
       "        Incident Datetime Incident Date Incident Time  Incident Year  \\\n",
       "0  2018/01/01 09:26:00 AM    2018/01/01         09:26           2018   \n",
       "1  2018/01/01 02:30:00 AM    2018/01/01         02:30           2018   \n",
       "2  2018/01/01 10:00:00 AM    2018/01/01         10:00           2018   \n",
       "3  2018/01/01 10:03:00 AM    2018/01/01         10:03           2018   \n",
       "4  2018/01/01 09:01:00 AM    2018/01/01         09:01           2018   \n",
       "\n",
       "  Incident Day of Week         Report Datetime       Row ID  Incident ID  \\\n",
       "0               Monday  2018/01/01 09:27:00 AM  61893007041       618930   \n",
       "1               Monday  2018/01/01 08:21:00 AM  61893105041       618931   \n",
       "2               Monday  2018/01/01 10:20:00 AM  61893275000       618932   \n",
       "3               Monday  2018/01/01 10:04:00 AM  61893565015       618935   \n",
       "4               Monday  2018/01/01 09:39:00 AM  61893607041       618936   \n",
       "\n",
       "   Incident Number   CAD Number  ... SF Find Neighborhoods  \\\n",
       "0        171052174  173641140.0  ...                  88.0   \n",
       "1        180000768  180010668.0  ...                  90.0   \n",
       "2        180000605  180010893.0  ...                  20.0   \n",
       "3        180000887  180011579.0  ...                   NaN   \n",
       "4        171052958  180011403.0  ...                 106.0   \n",
       "\n",
       "  Current Police Districts Current Supervisor Districts  \\\n",
       "0                      2.0                          9.0   \n",
       "1                      9.0                          1.0   \n",
       "2                      4.0                         10.0   \n",
       "3                      9.0                          1.0   \n",
       "4                      6.0                          3.0   \n",
       "\n",
       "   Analysis Neighborhoods HSOC Zones as of 2018-06-05 OWED Public Spaces  \\\n",
       "0                     1.0                         NaN                NaN   \n",
       "1                     7.0                         NaN                NaN   \n",
       "2                    36.0                         NaN                NaN   \n",
       "3                    28.0                         NaN                NaN   \n",
       "4                     6.0                         NaN                NaN   \n",
       "\n",
       "  Central Market/Tenderloin Boundary Polygon - Updated  \\\n",
       "0                                                NaN     \n",
       "1                                                NaN     \n",
       "2                                                1.0     \n",
       "3                                                NaN     \n",
       "4                                                NaN     \n",
       "\n",
       "  Parks Alliance CPSI (27+TL sites) ESNCAG - Boundary File  \\\n",
       "0                               NaN                    NaN   \n",
       "1                               NaN                    NaN   \n",
       "2                               NaN                    NaN   \n",
       "3                               NaN                    NaN   \n",
       "4                               NaN                    NaN   \n",
       "\n",
       "   Areas of Vulnerability, 2016  \n",
       "0                           2.0  \n",
       "1                           2.0  \n",
       "2                           2.0  \n",
       "3                           1.0  \n",
       "4                           2.0  \n",
       "\n",
       "[5 rows x 36 columns]"
      ]
     },
     "execution_count": 152,
     "metadata": {},
     "output_type": "execute_result"
    }
   ],
   "source": [
    "df.head(5)"
   ]
  },
  {
   "cell_type": "markdown",
   "metadata": {},
   "source": [
    "I want to check which columns contain null values and how many null values there are in the dataset"
   ]
  },
  {
   "cell_type": "code",
   "execution_count": 153,
   "metadata": {
    "scrolled": true
   },
   "outputs": [
    {
     "name": "stdout",
     "output_type": "stream",
     "text": [
      "There are 2636476 null values\n",
      "**************************************************\n",
      "Incident Datetime                                            0\n",
      "Incident Date                                                0\n",
      "Incident Time                                                0\n",
      "Incident Year                                                0\n",
      "Incident Day of Week                                         0\n",
      "Report Datetime                                              0\n",
      "Row ID                                                       0\n",
      "Incident ID                                                  0\n",
      "Incident Number                                              0\n",
      "CAD Number                                               93453\n",
      "Report Type Code                                             0\n",
      "Report Type Description                                      0\n",
      "Filed Online                                            336865\n",
      "Incident Code                                                0\n",
      "Incident Category                                          331\n",
      "Incident Subcategory                                       331\n",
      "Incident Description                                         0\n",
      "Resolution                                                   0\n",
      "Intersection                                             21555\n",
      "CNN                                                      21555\n",
      "Police District                                              0\n",
      "Analysis Neighborhood                                    21649\n",
      "Supervisor District                                      21555\n",
      "Latitude                                                 21555\n",
      "Longitude                                                21555\n",
      "point                                                    21555\n",
      "SF Find Neighborhoods                                    30194\n",
      "Current Police Districts                                 22121\n",
      "Current Supervisor Districts                             21635\n",
      "Analysis Neighborhoods                                   21729\n",
      "HSOC Zones as of 2018-06-05                             330609\n",
      "OWED Public Spaces                                      402938\n",
      "Central Market/Tenderloin Boundary Polygon - Updated    367349\n",
      "Parks Alliance CPSI (27+TL sites)                       418005\n",
      "ESNCAG - Boundary File                                  418208\n",
      "Areas of Vulnerability, 2016                             21729\n",
      "dtype: int64\n"
     ]
    }
   ],
   "source": [
    "print(f\"There are {df.isna().values.sum()} null values\")\n",
    "print(\"*****\"*10)\n",
    "print(df.isnull().sum())"
   ]
  },
  {
   "cell_type": "markdown",
   "metadata": {},
   "source": [
    "In the columns I'm interested in, the only columns that contains null values are Incident Category and Incident Subcategory. There are only 331 null values though so I should be able to complete my analysis.\n",
    "\n",
    "Next I will check cells with categorial variables to make sure we don't have any misspellings or inputs that shouldn't be there."
   ]
  },
  {
   "cell_type": "code",
   "execution_count": 154,
   "metadata": {
    "scrolled": true
   },
   "outputs": [
    {
     "name": "stdout",
     "output_type": "stream",
     "text": [
      "Incident Year: [2018, 2019, 2020, 2021]\n",
      "\n",
      "Incident Day of Week: ['Friday', 'Monday', 'Saturday', 'Sunday', 'Thursday', 'Tuesday', 'Wednesday']\n",
      "\n",
      "Report Type Code: ['II', 'IS', 'VI', 'VS']\n",
      "\n",
      "Report Type Description: ['Coplogic Initial', 'Coplogic Supplement', 'Initial', 'Initial Supplement', 'Vehicle Initial', 'Vehicle Supplement']\n",
      "\n",
      "Filed Online: [nan, True]\n",
      "\n",
      "Incident Category: ['Arson', 'Assault', 'Burglary', 'Case Closure', 'Civil Sidewalks', 'Courtesy Report', 'Disorderly Conduct', 'Drug Offense', 'Drug Violation', 'Embezzlement', 'Family Offense', 'Fire Report', 'Forgery And Counterfeiting', 'Fraud', 'Gambling', 'Homicide', 'Human Trafficking (A), Commercial Sex Acts', 'Human Trafficking (B), Involuntary Servitude', 'Human Trafficking, Commercial Sex Acts', 'Larceny Theft', 'Liquor Laws', 'Lost Property', 'Malicious Mischief', 'Miscellaneous Investigation', 'Missing Person', 'Motor Vehicle Theft', 'Motor Vehicle Theft?', 'Non-Criminal', 'Offences Against The Family And Children', 'Other', 'Other Miscellaneous', 'Other Offenses', 'Prostitution', 'Rape', 'Recovered Vehicle', 'Robbery', 'Sex Offense', 'Stolen Property', 'Suicide', 'Suspicious', 'Suspicious Occ', 'Traffic Collision', 'Traffic Violation Arrest', 'Vandalism', 'Vehicle Impounded', 'Vehicle Misplaced', 'Warrant', 'Weapons Carrying Etc', 'Weapons Offence', 'Weapons Offense', 'nan']\n",
      "\n",
      "Incident Subcategory: ['Aggravated Assault', 'Arrest', 'Arson', 'Bad Checks', 'Bribery', 'Burglary - Commercial', 'Burglary - Hot Prowl', 'Burglary - Other', 'Burglary - Residential', 'Case Closure', 'Child Abuse', 'Courtesy Report', 'Disorderly Conduct', 'Drug Violation', 'Drunkenness', 'Embezzlement', 'Extortion-Blackmail', 'Family Offenses', 'Fire Report', 'Forgery And Counterfeiting', 'Fraud', 'Gambling', 'Homicide', 'Human Trafficking (A), Commercial Sex Acts', 'Human Trafficking, Commercial Sex Acts', 'Human Trafficking, Involuntary Servitude', 'Intimidation', 'Kidnapping', 'Larceny - Auto Parts', 'Larceny - From Vehicle', 'Larceny Theft - Bicycle', 'Larceny Theft - From Building', 'Larceny Theft - Other', 'Larceny Theft - Pickpocket', 'Larceny Theft - Purse Snatch', 'Larceny Theft - Shoplifting', 'Liquor Law Violation', 'Loitering', 'Lost Property', 'Manslaughter', 'Miscellaneous Investigation', 'Missing Adult', 'Missing Person', 'Motor Vehicle Theft', 'Motor Vehicle Theft (Attempted)', 'Non-Criminal', 'Other', 'Other Offenses', 'Prostitution', 'Rape', 'Rape - Attempted', 'Recovered Vehicle', 'Robbery - Carjacking', 'Robbery - Commercial', 'Robbery - Other', 'Robbery - Residential', 'Robbery - Street', 'Sex Offense', 'Sex Offense, Child', 'Simple Assault', 'Stalking', 'Stolen Property', 'Suicide', 'Suspicious Occ', 'Suspicious Package', 'Theft From Vehicle', 'Traffic Collision', 'Traffic Collision - Hit & Run', 'Traffic Violation Arrest', 'Trespass', 'Vandalism', 'Vehicle Impounded', 'Vehicle Misplaced', 'Warrant', 'Weapons Offense', 'nan']\n",
      "\n",
      "Resolution: ['Cite or Arrest Adult', 'Exceptional Adult', 'Open or Active', 'Unfounded']\n",
      "\n",
      "Police District: ['Bayview', 'Central', 'Ingleside', 'Mission', 'Northern', 'Out of SF', 'Park', 'Richmond', 'Southern', 'Taraval', 'Tenderloin']\n",
      "\n",
      "Supervisor District: [1.0, 2.0, 3.0, 4.0, 5.0, 6.0, 7.0, 8.0, 9.0, 10.0, 11.0, nan]\n"
     ]
    }
   ],
   "source": [
    "print(f\"Incident Year: {sorted(df['Incident Year'].unique())}\")\n",
    "print(\"\")\n",
    "print(f\"Incident Day of Week: {sorted(df['Incident Day of Week'].unique())}\")\n",
    "print(\"\")\n",
    "print(f\"Report Type Code: {sorted(df['Report Type Code'].unique())}\")\n",
    "print(\"\")\n",
    "print(f\"Report Type Description: {sorted(df['Report Type Description'].unique())}\")\n",
    "print(\"\")\n",
    "print(f\"Filed Online: {sorted(df['Filed Online'].unique())}\")\n",
    "print(\"\")\n",
    "df['Incident Category'] = df['Incident Category'].astype(str)\n",
    "print(f\"Incident Category: {sorted(df['Incident Category'].unique())}\")\n",
    "print(\"\")\n",
    "df['Incident Subcategory'] = df['Incident Subcategory'].astype(str)\n",
    "print(f\"Incident Subcategory: {sorted(df['Incident Subcategory'].unique())}\")\n",
    "print(\"\")\n",
    "print(f\"Resolution: {sorted(df['Resolution'].unique())}\")\n",
    "print(\"\")\n",
    "print(f\"Police District: {sorted(df['Police District'].unique())}\")\n",
    "print(\"\")\n",
    "print(f\"Supervisor District: {sorted(df['Supervisor District'].unique())}\")"
   ]
  },
  {
   "cell_type": "markdown",
   "metadata": {},
   "source": [
    "The 'Incident Category' seems to have a few mistakes:\n",
    "- 'Human Trafficking' has 3 different types of inputs\n",
    "- 'Motor Vehicle Theft' input has 2 different types of inputs, and one has a question mark. This seems to be an error\n",
    "- 'Weapons Offense' is also spelled 'Offence' at times\n",
    "\n",
    "I will want to look closer into the 'Incident Category' column to see how many times each value appears"
   ]
  },
  {
   "cell_type": "code",
   "execution_count": 155,
   "metadata": {
    "scrolled": true
   },
   "outputs": [
    {
     "data": {
      "text/html": [
       "<div>\n",
       "<style scoped>\n",
       "    .dataframe tbody tr th:only-of-type {\n",
       "        vertical-align: middle;\n",
       "    }\n",
       "\n",
       "    .dataframe tbody tr th {\n",
       "        vertical-align: top;\n",
       "    }\n",
       "\n",
       "    .dataframe thead th {\n",
       "        text-align: right;\n",
       "    }\n",
       "</style>\n",
       "<table border=\"1\" class=\"dataframe\">\n",
       "  <thead>\n",
       "    <tr style=\"text-align: right;\">\n",
       "      <th></th>\n",
       "      <th>category</th>\n",
       "      <th>num</th>\n",
       "    </tr>\n",
       "  </thead>\n",
       "  <tbody>\n",
       "    <tr>\n",
       "      <th>30</th>\n",
       "      <td>Arson</td>\n",
       "      <td>1126</td>\n",
       "    </tr>\n",
       "    <tr>\n",
       "      <th>4</th>\n",
       "      <td>Assault</td>\n",
       "      <td>25044</td>\n",
       "    </tr>\n",
       "    <tr>\n",
       "      <th>1</th>\n",
       "      <td>Burglary</td>\n",
       "      <td>22412</td>\n",
       "    </tr>\n",
       "    <tr>\n",
       "      <th>33</th>\n",
       "      <td>Case Closure</td>\n",
       "      <td>1883</td>\n",
       "    </tr>\n",
       "    <tr>\n",
       "      <th>10</th>\n",
       "      <td>Civil Sidewalks</td>\n",
       "      <td>860</td>\n",
       "    </tr>\n",
       "    <tr>\n",
       "      <th>36</th>\n",
       "      <td>Courtesy Report</td>\n",
       "      <td>1230</td>\n",
       "    </tr>\n",
       "    <tr>\n",
       "      <th>21</th>\n",
       "      <td>Disorderly Conduct</td>\n",
       "      <td>7205</td>\n",
       "    </tr>\n",
       "    <tr>\n",
       "      <th>17</th>\n",
       "      <td>Drug Offense</td>\n",
       "      <td>10413</td>\n",
       "    </tr>\n",
       "    <tr>\n",
       "      <th>27</th>\n",
       "      <td>Drug Violation</td>\n",
       "      <td>135</td>\n",
       "    </tr>\n",
       "    <tr>\n",
       "      <th>34</th>\n",
       "      <td>Embezzlement</td>\n",
       "      <td>586</td>\n",
       "    </tr>\n",
       "    <tr>\n",
       "      <th>24</th>\n",
       "      <td>Family Offense</td>\n",
       "      <td>533</td>\n",
       "    </tr>\n",
       "    <tr>\n",
       "      <th>32</th>\n",
       "      <td>Fire Report</td>\n",
       "      <td>499</td>\n",
       "    </tr>\n",
       "    <tr>\n",
       "      <th>25</th>\n",
       "      <td>Forgery And Counterfeiting</td>\n",
       "      <td>1744</td>\n",
       "    </tr>\n",
       "    <tr>\n",
       "      <th>11</th>\n",
       "      <td>Fraud</td>\n",
       "      <td>12590</td>\n",
       "    </tr>\n",
       "    <tr>\n",
       "      <th>39</th>\n",
       "      <td>Gambling</td>\n",
       "      <td>21</td>\n",
       "    </tr>\n",
       "    <tr>\n",
       "      <th>46</th>\n",
       "      <td>Homicide</td>\n",
       "      <td>51</td>\n",
       "    </tr>\n",
       "    <tr>\n",
       "      <th>42</th>\n",
       "      <td>Human Trafficking (A), Commercial Sex Acts</td>\n",
       "      <td>106</td>\n",
       "    </tr>\n",
       "    <tr>\n",
       "      <th>50</th>\n",
       "      <td>Human Trafficking (B), Involuntary Servitude</td>\n",
       "      <td>0</td>\n",
       "    </tr>\n",
       "    <tr>\n",
       "      <th>49</th>\n",
       "      <td>Human Trafficking, Commercial Sex Acts</td>\n",
       "      <td>16</td>\n",
       "    </tr>\n",
       "    <tr>\n",
       "      <th>6</th>\n",
       "      <td>Larceny Theft</td>\n",
       "      <td>128335</td>\n",
       "    </tr>\n",
       "    <tr>\n",
       "      <th>43</th>\n",
       "      <td>Liquor Laws</td>\n",
       "      <td>72</td>\n",
       "    </tr>\n",
       "    <tr>\n",
       "      <th>26</th>\n",
       "      <td>Lost Property</td>\n",
       "      <td>13671</td>\n",
       "    </tr>\n",
       "    <tr>\n",
       "      <th>12</th>\n",
       "      <td>Malicious Mischief</td>\n",
       "      <td>26744</td>\n",
       "    </tr>\n",
       "    <tr>\n",
       "      <th>15</th>\n",
       "      <td>Miscellaneous Investigation</td>\n",
       "      <td>3856</td>\n",
       "    </tr>\n",
       "    <tr>\n",
       "      <th>2</th>\n",
       "      <td>Missing Person</td>\n",
       "      <td>9534</td>\n",
       "    </tr>\n",
       "    <tr>\n",
       "      <th>19</th>\n",
       "      <td>Motor Vehicle Theft</td>\n",
       "      <td>18357</td>\n",
       "    </tr>\n",
       "    <tr>\n",
       "      <th>45</th>\n",
       "      <td>Motor Vehicle Theft?</td>\n",
       "      <td>56</td>\n",
       "    </tr>\n",
       "    <tr>\n",
       "      <th>5</th>\n",
       "      <td>Non-Criminal</td>\n",
       "      <td>25730</td>\n",
       "    </tr>\n",
       "    <tr>\n",
       "      <th>23</th>\n",
       "      <td>Offences Against The Family And Children</td>\n",
       "      <td>8407</td>\n",
       "    </tr>\n",
       "    <tr>\n",
       "      <th>28</th>\n",
       "      <td>Other</td>\n",
       "      <td>3206</td>\n",
       "    </tr>\n",
       "    <tr>\n",
       "      <th>3</th>\n",
       "      <td>Other Miscellaneous</td>\n",
       "      <td>31167</td>\n",
       "    </tr>\n",
       "    <tr>\n",
       "      <th>29</th>\n",
       "      <td>Other Offenses</td>\n",
       "      <td>3524</td>\n",
       "    </tr>\n",
       "    <tr>\n",
       "      <th>40</th>\n",
       "      <td>Prostitution</td>\n",
       "      <td>821</td>\n",
       "    </tr>\n",
       "    <tr>\n",
       "      <th>47</th>\n",
       "      <td>Rape</td>\n",
       "      <td>107</td>\n",
       "    </tr>\n",
       "    <tr>\n",
       "      <th>0</th>\n",
       "      <td>Recovered Vehicle</td>\n",
       "      <td>14432</td>\n",
       "    </tr>\n",
       "    <tr>\n",
       "      <th>8</th>\n",
       "      <td>Robbery</td>\n",
       "      <td>9877</td>\n",
       "    </tr>\n",
       "    <tr>\n",
       "      <th>37</th>\n",
       "      <td>Sex Offense</td>\n",
       "      <td>1261</td>\n",
       "    </tr>\n",
       "    <tr>\n",
       "      <th>16</th>\n",
       "      <td>Stolen Property</td>\n",
       "      <td>2187</td>\n",
       "    </tr>\n",
       "    <tr>\n",
       "      <th>35</th>\n",
       "      <td>Suicide</td>\n",
       "      <td>182</td>\n",
       "    </tr>\n",
       "    <tr>\n",
       "      <th>44</th>\n",
       "      <td>Suspicious</td>\n",
       "      <td>74</td>\n",
       "    </tr>\n",
       "    <tr>\n",
       "      <th>7</th>\n",
       "      <td>Suspicious Occ</td>\n",
       "      <td>8188</td>\n",
       "    </tr>\n",
       "    <tr>\n",
       "      <th>20</th>\n",
       "      <td>Traffic Collision</td>\n",
       "      <td>829</td>\n",
       "    </tr>\n",
       "    <tr>\n",
       "      <th>14</th>\n",
       "      <td>Traffic Violation Arrest</td>\n",
       "      <td>5025</td>\n",
       "    </tr>\n",
       "    <tr>\n",
       "      <th>38</th>\n",
       "      <td>Vandalism</td>\n",
       "      <td>713</td>\n",
       "    </tr>\n",
       "    <tr>\n",
       "      <th>31</th>\n",
       "      <td>Vehicle Impounded</td>\n",
       "      <td>302</td>\n",
       "    </tr>\n",
       "    <tr>\n",
       "      <th>22</th>\n",
       "      <td>Vehicle Misplaced</td>\n",
       "      <td>178</td>\n",
       "    </tr>\n",
       "    <tr>\n",
       "      <th>13</th>\n",
       "      <td>Warrant</td>\n",
       "      <td>14292</td>\n",
       "    </tr>\n",
       "    <tr>\n",
       "      <th>9</th>\n",
       "      <td>Weapons Carrying Etc</td>\n",
       "      <td>2279</td>\n",
       "    </tr>\n",
       "    <tr>\n",
       "      <th>48</th>\n",
       "      <td>Weapons Offence</td>\n",
       "      <td>16</td>\n",
       "    </tr>\n",
       "    <tr>\n",
       "      <th>18</th>\n",
       "      <td>Weapons Offense</td>\n",
       "      <td>2460</td>\n",
       "    </tr>\n",
       "    <tr>\n",
       "      <th>41</th>\n",
       "      <td>nan</td>\n",
       "      <td>330</td>\n",
       "    </tr>\n",
       "  </tbody>\n",
       "</table>\n",
       "</div>"
      ],
      "text/plain": [
       "                                        category     num\n",
       "30                                         Arson    1126\n",
       "4                                        Assault   25044\n",
       "1                                       Burglary   22412\n",
       "33                                  Case Closure    1883\n",
       "10                               Civil Sidewalks     860\n",
       "36                               Courtesy Report    1230\n",
       "21                            Disorderly Conduct    7205\n",
       "17                                  Drug Offense   10413\n",
       "27                                Drug Violation     135\n",
       "34                                  Embezzlement     586\n",
       "24                                Family Offense     533\n",
       "32                                   Fire Report     499\n",
       "25                    Forgery And Counterfeiting    1744\n",
       "11                                         Fraud   12590\n",
       "39                                      Gambling      21\n",
       "46                                      Homicide      51\n",
       "42    Human Trafficking (A), Commercial Sex Acts     106\n",
       "50  Human Trafficking (B), Involuntary Servitude       0\n",
       "49        Human Trafficking, Commercial Sex Acts      16\n",
       "6                                  Larceny Theft  128335\n",
       "43                                   Liquor Laws      72\n",
       "26                                 Lost Property   13671\n",
       "12                            Malicious Mischief   26744\n",
       "15                   Miscellaneous Investigation    3856\n",
       "2                                 Missing Person    9534\n",
       "19                           Motor Vehicle Theft   18357\n",
       "45                          Motor Vehicle Theft?      56\n",
       "5                                   Non-Criminal   25730\n",
       "23      Offences Against The Family And Children    8407\n",
       "28                                         Other    3206\n",
       "3                            Other Miscellaneous   31167\n",
       "29                                Other Offenses    3524\n",
       "40                                  Prostitution     821\n",
       "47                                          Rape     107\n",
       "0                              Recovered Vehicle   14432\n",
       "8                                        Robbery    9877\n",
       "37                                   Sex Offense    1261\n",
       "16                               Stolen Property    2187\n",
       "35                                       Suicide     182\n",
       "44                                    Suspicious      74\n",
       "7                                 Suspicious Occ    8188\n",
       "20                             Traffic Collision     829\n",
       "14                      Traffic Violation Arrest    5025\n",
       "38                                     Vandalism     713\n",
       "31                             Vehicle Impounded     302\n",
       "22                             Vehicle Misplaced     178\n",
       "13                                       Warrant   14292\n",
       "9                           Weapons Carrying Etc    2279\n",
       "48                               Weapons Offence      16\n",
       "18                               Weapons Offense    2460\n",
       "41                                           nan     330"
      ]
     },
     "execution_count": 155,
     "metadata": {},
     "output_type": "execute_result"
    }
   ],
   "source": [
    "def count_unique_values(df,column):   \n",
    "    column_values = {}\n",
    "    for i in df[column]:\n",
    "        if i in column_values.keys():\n",
    "            column_values[i] = column_values.get(i, 0) + 1\n",
    "        else:\n",
    "            column_values[i] = 0\n",
    "    df_column_values = pd.DataFrame.from_dict(column_values, orient='index').reset_index().rename(columns = {'index':'category',0:'num'})\n",
    "    return df_column_values.sort_values('category')\n",
    "\n",
    "count_unique_values(df,'Incident Category')"
   ]
  },
  {
   "cell_type": "markdown",
   "metadata": {},
   "source": [
    "There are very few 'Moter Vehicle Theft?' and 'Weapons Offence' entries so I think they may have been an input error. I will combine them with their respective categories. I will also combine all of the 'Human Trafficking' categories into one since there are so few of them.\n",
    "\n",
    "I am going to group all of the 'Other' categories together. There are so many different categories, I may want to only look at the top 20-25 categories by crime numbers and group the rest of them with the 'Other' category."
   ]
  },
  {
   "cell_type": "markdown",
   "metadata": {},
   "source": [
    "Next I'll check to see that we don't have duplicate rows in the database"
   ]
  },
  {
   "cell_type": "code",
   "execution_count": 156,
   "metadata": {},
   "outputs": [
    {
     "name": "stdout",
     "output_type": "stream",
     "text": [
      "There are no duplicate rows\n"
     ]
    }
   ],
   "source": [
    "def find_duplicate_rows(df):\n",
    "    df_duplicates = df[df.duplicated()]\n",
    "    if df_duplicates.shape[0] > 0:\n",
    "        return(df_duplicates)\n",
    "    else:\n",
    "        return(\"There are no duplicate rows\")\n",
    "\n",
    "print(find_duplicate_rows(df))"
   ]
  },
  {
   "cell_type": "markdown",
   "metadata": {},
   "source": [
    "There are no duplicate rows but I also want to make sure that there are no Incident IDs that are being used more than once. According to the column description, if an incident report has more than one incident type associated, there will be additional rows with unique combinations of the Incident ID and Incident Code. So now I'll want to look to see if there are any rows that have the same combination of Incident ID and Incident Code"
   ]
  },
  {
   "cell_type": "code",
   "execution_count": 157,
   "metadata": {
    "scrolled": true
   },
   "outputs": [
    {
     "name": "stdout",
     "output_type": "stream",
     "text": [
      "There are no duplicate column combinations\n"
     ]
    }
   ],
   "source": [
    "def find_duplicate_column_combos(df,*columns):\n",
    "    column_list = []\n",
    "    for column in columns:\n",
    "        column_list.append(column)\n",
    "    df_duplicates = df[df.duplicated(columns)]\n",
    "    if df_duplicates.shape[0] > 0:\n",
    "        return(f\"There are {df_duplicates.shape[0]} duplicate column combinations\")\n",
    "    else:\n",
    "        return(\"There are no duplicate column combinations\")\n",
    "\n",
    "print(find_duplicate_column_combos(df,'Incident ID','Incident Code'))"
   ]
  },
  {
   "cell_type": "markdown",
   "metadata": {},
   "source": [
    "# Manipulating the Data Using SQL\n",
    "Aggregating and filtering the data for visualizing in Tableau\n",
    "``` mysql\n",
    "SELECT incidentyear, \n",
    "       incidentmonth, \n",
    "       incidentday, \n",
    "       incidentdayofweek, \n",
    "       CASE \n",
    "         WHEN rank > 20 THEN 'Other' \n",
    "         ELSE incidentcategory \n",
    "       END AS incidentcategory, \n",
    "       resolution, \n",
    "       policedistrict, \n",
    "       SUM(num_daily_reports) AS num_daily_reports \n",
    "FROM   (SELECT *, \n",
    "               DENSE_RANK() OVER (ORDER BY total_reports DESC) AS rank \n",
    "        FROM   (SELECT *, \n",
    "                       SUM(num_daily_reports) OVER \n",
    "                          (PARTITION BY incidentcategory) AS total_reports \n",
    "                FROM   (SELECT incidentyear, \n",
    "                               CAST(SUBSTR(incidentdate, 6, 2) AS INTEGER) \n",
    "                                   AS IncidentMonth, \n",
    "                               CAST(SUBSTR(incidentdate, 9, 2) AS INTEGER) \n",
    "                                   AS IncidentDay, \n",
    "                               incidentdayofweek, \n",
    "                               CASE \n",
    "                                 WHEN incidentcategory = 'Weapons Offence' \n",
    "                                     THEN 'Weapons Offense' \n",
    "                                 WHEN incidentcategory = 'Motor Vehicle Theft?' \n",
    "                                     THEN 'Motor Vehicle Theft' \n",
    "                                 WHEN incidentcategory LIKE '%Human Trafficking%' \n",
    "                                     THEN 'Human Trafficking, Commercial Sex Acts' \n",
    "                                 WHEN incidentcategory LIKE 'Other%' \n",
    "                                     THEN 'Other'\n",
    "                                 ELSE incidentcategory \n",
    "                               END AS incidentcategory, \n",
    "                               resolution, \n",
    "                               policedistrict, \n",
    "                               COUNT(*) AS \n",
    "                               num_daily_reports \n",
    "                        FROM   sf_crime \n",
    "                        WHERE  incidentyear != 2021 \n",
    "                        GROUP  BY 1,2,3,4,5,6,7))) \n",
    "GROUP  BY 1,2,3,4,5,6,7  \n",
    "```"
   ]
  },
  {
   "cell_type": "markdown",
   "metadata": {},
   "source": [
    "# Tableau Visualizations and Analysis"
   ]
  },
  {
   "cell_type": "markdown",
   "metadata": {},
   "source": [
    "## Amount of Crime\n",
    "First let's look at how the amount of crime in 2020 compares to 2018 and 2019"
   ]
  },
  {
   "cell_type": "code",
   "execution_count": 158,
   "metadata": {},
   "outputs": [
    {
     "data": {
      "text/html": [
       "<div class='tableauPlaceholder' id='viz1611336840637' style='position: relative'><noscript><a href='#'><img alt=' ' src='https:&#47;&#47;public.tableau.com&#47;static&#47;images&#47;SF&#47;SFCrime_16106615948520&#47;TotalCrimeDash&#47;1_rss.png' style='border: none' /></a></noscript><object class='tableauViz'  style='display:none;'><param name='host_url' value='https%3A%2F%2Fpublic.tableau.com%2F' /> <param name='embed_code_version' value='3' /> <param name='site_root' value='' /><param name='name' value='SFCrime_16106615948520&#47;TotalCrimeDash' /><param name='tabs' value='no' /><param name='toolbar' value='yes' /><param name='static_image' value='https:&#47;&#47;public.tableau.com&#47;static&#47;images&#47;SF&#47;SFCrime_16106615948520&#47;TotalCrimeDash&#47;1.png' /> <param name='animate_transition' value='yes' /><param name='display_static_image' value='yes' /><param name='display_spinner' value='yes' /><param name='display_overlay' value='yes' /><param name='display_count' value='yes' /><param name='language' value='en' /></object></div>                <script type='text/javascript'>                    var divElement = document.getElementById('viz1611336840637');                    var vizElement = divElement.getElementsByTagName('object')[0];                    if ( divElement.offsetWidth > 800 ) { vizElement.style.width='1000px';vizElement.style.height='627px';} else if ( divElement.offsetWidth > 500 ) { vizElement.style.width='1000px';vizElement.style.height='627px';} else { vizElement.style.width='100%';vizElement.style.height='727px';}                     var scriptElement = document.createElement('script');                    scriptElement.src = 'https://public.tableau.com/javascripts/api/viz_v1.js';                    vizElement.parentNode.insertBefore(scriptElement, vizElement);                </script>\n"
      ],
      "text/plain": [
       "<IPython.core.display.HTML object>"
      ]
     },
     "metadata": {},
     "output_type": "display_data"
    }
   ],
   "source": [
    "%%html\n",
    "<div class='tableauPlaceholder' id='viz1611336840637' style='position: relative'><noscript><a href='#'><img alt=' ' src='https:&#47;&#47;public.tableau.com&#47;static&#47;images&#47;SF&#47;SFCrime_16106615948520&#47;TotalCrimeDash&#47;1_rss.png' style='border: none' /></a></noscript><object class='tableauViz'  style='display:none;'><param name='host_url' value='https%3A%2F%2Fpublic.tableau.com%2F' /> <param name='embed_code_version' value='3' /> <param name='site_root' value='' /><param name='name' value='SFCrime_16106615948520&#47;TotalCrimeDash' /><param name='tabs' value='no' /><param name='toolbar' value='yes' /><param name='static_image' value='https:&#47;&#47;public.tableau.com&#47;static&#47;images&#47;SF&#47;SFCrime_16106615948520&#47;TotalCrimeDash&#47;1.png' /> <param name='animate_transition' value='yes' /><param name='display_static_image' value='yes' /><param name='display_spinner' value='yes' /><param name='display_overlay' value='yes' /><param name='display_count' value='yes' /><param name='language' value='en' /></object></div>                <script type='text/javascript'>                    var divElement = document.getElementById('viz1611336840637');                    var vizElement = divElement.getElementsByTagName('object')[0];                    if ( divElement.offsetWidth > 800 ) { vizElement.style.width='1000px';vizElement.style.height='627px';} else if ( divElement.offsetWidth > 500 ) { vizElement.style.width='1000px';vizElement.style.height='627px';} else { vizElement.style.width='100%';vizElement.style.height='727px';}                     var scriptElement = document.createElement('script');                    scriptElement.src = 'https://public.tableau.com/javascripts/api/viz_v1.js';                    vizElement.parentNode.insertBefore(scriptElement, vizElement);                </script>"
   ]
  },
  {
   "cell_type": "markdown",
   "metadata": {},
   "source": [
    "The cumulative amount of reported crimes in 2020 was around 23% less than the average of 2018 and 2019. We can see that 2020 starts to diverge in March, when COVID-19 was declared a pandemic and SF enacted a shelter-in-place order. Let's take a closer look at March 2020 to see exactly when crime started to decrease."
   ]
  },
  {
   "cell_type": "code",
   "execution_count": 159,
   "metadata": {},
   "outputs": [
    {
     "data": {
      "text/html": [
       "<div class='tableauPlaceholder' id='viz1611336880940' style='position: relative'><noscript><a href='#'><img alt=' ' src='https:&#47;&#47;public.tableau.com&#47;static&#47;images&#47;SF&#47;SFCrime_16106615948520&#47;March2020Dash&#47;1_rss.png' style='border: none' /></a></noscript><object class='tableauViz'  style='display:none;'><param name='host_url' value='https%3A%2F%2Fpublic.tableau.com%2F' /> <param name='embed_code_version' value='3' /> <param name='site_root' value='' /><param name='name' value='SFCrime_16106615948520&#47;March2020Dash' /><param name='tabs' value='no' /><param name='toolbar' value='yes' /><param name='static_image' value='https:&#47;&#47;public.tableau.com&#47;static&#47;images&#47;SF&#47;SFCrime_16106615948520&#47;March2020Dash&#47;1.png' /> <param name='animate_transition' value='yes' /><param name='display_static_image' value='yes' /><param name='display_spinner' value='yes' /><param name='display_overlay' value='yes' /><param name='display_count' value='yes' /><param name='language' value='en' /></object></div>                <script type='text/javascript'>                    var divElement = document.getElementById('viz1611336880940');                    var vizElement = divElement.getElementsByTagName('object')[0];                    if ( divElement.offsetWidth > 800 ) { vizElement.style.width='1000px';vizElement.style.height='627px';} else if ( divElement.offsetWidth > 500 ) { vizElement.style.width='1000px';vizElement.style.height='627px';} else { vizElement.style.width='100%';vizElement.style.height='727px';}                     var scriptElement = document.createElement('script');                    scriptElement.src = 'https://public.tableau.com/javascripts/api/viz_v1.js';                    vizElement.parentNode.insertBefore(scriptElement, vizElement);                </script>\n"
      ],
      "text/plain": [
       "<IPython.core.display.HTML object>"
      ]
     },
     "metadata": {},
     "output_type": "display_data"
    }
   ],
   "source": [
    "%%html\n",
    "<div class='tableauPlaceholder' id='viz1611336880940' style='position: relative'><noscript><a href='#'><img alt=' ' src='https:&#47;&#47;public.tableau.com&#47;static&#47;images&#47;SF&#47;SFCrime_16106615948520&#47;March2020Dash&#47;1_rss.png' style='border: none' /></a></noscript><object class='tableauViz'  style='display:none;'><param name='host_url' value='https%3A%2F%2Fpublic.tableau.com%2F' /> <param name='embed_code_version' value='3' /> <param name='site_root' value='' /><param name='name' value='SFCrime_16106615948520&#47;March2020Dash' /><param name='tabs' value='no' /><param name='toolbar' value='yes' /><param name='static_image' value='https:&#47;&#47;public.tableau.com&#47;static&#47;images&#47;SF&#47;SFCrime_16106615948520&#47;March2020Dash&#47;1.png' /> <param name='animate_transition' value='yes' /><param name='display_static_image' value='yes' /><param name='display_spinner' value='yes' /><param name='display_overlay' value='yes' /><param name='display_count' value='yes' /><param name='language' value='en' /></object></div>                <script type='text/javascript'>                    var divElement = document.getElementById('viz1611336880940');                    var vizElement = divElement.getElementsByTagName('object')[0];                    if ( divElement.offsetWidth > 800 ) { vizElement.style.width='1000px';vizElement.style.height='627px';} else if ( divElement.offsetWidth > 500 ) { vizElement.style.width='1000px';vizElement.style.height='627px';} else { vizElement.style.width='100%';vizElement.style.height='727px';}                     var scriptElement = document.createElement('script');                    scriptElement.src = 'https://public.tableau.com/javascripts/api/viz_v1.js';                    vizElement.parentNode.insertBefore(scriptElement, vizElement);                </script>"
   ]
  },
  {
   "cell_type": "markdown",
   "metadata": {},
   "source": [
    "So pretty much right when COVID-19 was declared a national emergency in the US, SF crime rates started to trend downwards. \n",
    "\n",
    "I would like to see how the amount of crime differs by month compared to the year's average."
   ]
  },
  {
   "cell_type": "code",
   "execution_count": 160,
   "metadata": {},
   "outputs": [
    {
     "data": {
      "text/html": [
       "<div class='tableauPlaceholder' id='viz1611336916795' style='position: relative'><noscript><a href='#'><img alt=' ' src='https:&#47;&#47;public.tableau.com&#47;static&#47;images&#47;SF&#47;SFCrime_16106615948520&#47;DifferencefromAverageDash&#47;1_rss.png' style='border: none' /></a></noscript><object class='tableauViz'  style='display:none;'><param name='host_url' value='https%3A%2F%2Fpublic.tableau.com%2F' /> <param name='embed_code_version' value='3' /> <param name='site_root' value='' /><param name='name' value='SFCrime_16106615948520&#47;DifferencefromAverageDash' /><param name='tabs' value='no' /><param name='toolbar' value='yes' /><param name='static_image' value='https:&#47;&#47;public.tableau.com&#47;static&#47;images&#47;SF&#47;SFCrime_16106615948520&#47;DifferencefromAverageDash&#47;1.png' /> <param name='animate_transition' value='yes' /><param name='display_static_image' value='yes' /><param name='display_spinner' value='yes' /><param name='display_overlay' value='yes' /><param name='display_count' value='yes' /><param name='language' value='en' /></object></div>                <script type='text/javascript'>                    var divElement = document.getElementById('viz1611336916795');                    var vizElement = divElement.getElementsByTagName('object')[0];                    if ( divElement.offsetWidth > 800 ) { vizElement.style.width='1000px';vizElement.style.height='627px';} else if ( divElement.offsetWidth > 500 ) { vizElement.style.width='1000px';vizElement.style.height='627px';} else { vizElement.style.width='100%';vizElement.style.height='727px';}                     var scriptElement = document.createElement('script');                    scriptElement.src = 'https://public.tableau.com/javascripts/api/viz_v1.js';                    vizElement.parentNode.insertBefore(scriptElement, vizElement);                </script>\n"
      ],
      "text/plain": [
       "<IPython.core.display.HTML object>"
      ]
     },
     "metadata": {},
     "output_type": "display_data"
    }
   ],
   "source": [
    "%%html\n",
    "<div class='tableauPlaceholder' id='viz1611336916795' style='position: relative'><noscript><a href='#'><img alt=' ' src='https:&#47;&#47;public.tableau.com&#47;static&#47;images&#47;SF&#47;SFCrime_16106615948520&#47;DifferencefromAverageDash&#47;1_rss.png' style='border: none' /></a></noscript><object class='tableauViz'  style='display:none;'><param name='host_url' value='https%3A%2F%2Fpublic.tableau.com%2F' /> <param name='embed_code_version' value='3' /> <param name='site_root' value='' /><param name='name' value='SFCrime_16106615948520&#47;DifferencefromAverageDash' /><param name='tabs' value='no' /><param name='toolbar' value='yes' /><param name='static_image' value='https:&#47;&#47;public.tableau.com&#47;static&#47;images&#47;SF&#47;SFCrime_16106615948520&#47;DifferencefromAverageDash&#47;1.png' /> <param name='animate_transition' value='yes' /><param name='display_static_image' value='yes' /><param name='display_spinner' value='yes' /><param name='display_overlay' value='yes' /><param name='display_count' value='yes' /><param name='language' value='en' /></object></div>                <script type='text/javascript'>                    var divElement = document.getElementById('viz1611336916795');                    var vizElement = divElement.getElementsByTagName('object')[0];                    if ( divElement.offsetWidth > 800 ) { vizElement.style.width='1000px';vizElement.style.height='627px';} else if ( divElement.offsetWidth > 500 ) { vizElement.style.width='1000px';vizElement.style.height='627px';} else { vizElement.style.width='100%';vizElement.style.height='727px';}                     var scriptElement = document.createElement('script');                    scriptElement.src = 'https://public.tableau.com/javascripts/api/viz_v1.js';                    vizElement.parentNode.insertBefore(scriptElement, vizElement);                </script>"
   ]
  },
  {
   "cell_type": "markdown",
   "metadata": {},
   "source": [
    "We generally see less crime during the winter and more crime in the warmer months from July to October (SF's 'Indian Summer'). Given the pandemic, 2020's monthly trend is different, but I want to remove January through April to see if the rest of the year resembles 2018 and 2019. \n",
    "\n",
    "When filtering out Jan-April, although we do see an uptick in crimes starting in the summer, the number of crimes continues to be higher as we go into the winter. I think the unpredictability of COVID-19 and government restrictions really affected the number of crimes in the beginning. Then as the pandemic went on, the public may have started to experience pandemic fatigue and relaxed adherence to regulations, therefore providing more opportunities for crimes to occur. \n",
    "\n",
    "Next I will want to look at what types of crimes occurred more frequently in 2020 and how that differs from previous years due to COVID-19."
   ]
  },
  {
   "cell_type": "markdown",
   "metadata": {},
   "source": [
    "## Categories of Crime\n",
    "First I want to see how the total amount of each category of crime changed in 2020 compared to previous years."
   ]
  },
  {
   "cell_type": "code",
   "execution_count": 161,
   "metadata": {
    "scrolled": false
   },
   "outputs": [
    {
     "data": {
      "text/html": [
       "<div class='tableauPlaceholder' id='viz1611346368173' style='position: relative'><noscript><a href='#'><img alt=' ' src='https:&#47;&#47;public.tableau.com&#47;static&#47;images&#47;SF&#47;SFCrime_16106615948520&#47;DifferenceinTotalCrimebyYear&#47;1_rss.png' style='border: none' /></a></noscript><object class='tableauViz'  style='display:none;'><param name='host_url' value='https%3A%2F%2Fpublic.tableau.com%2F' /> <param name='embed_code_version' value='3' /> <param name='site_root' value='' /><param name='name' value='SFCrime_16106615948520&#47;DifferenceinTotalCrimebyYear' /><param name='tabs' value='no' /><param name='toolbar' value='yes' /><param name='static_image' value='https:&#47;&#47;public.tableau.com&#47;static&#47;images&#47;SF&#47;SFCrime_16106615948520&#47;DifferenceinTotalCrimebyYear&#47;1.png' /> <param name='animate_transition' value='yes' /><param name='display_static_image' value='yes' /><param name='display_spinner' value='yes' /><param name='display_overlay' value='yes' /><param name='display_count' value='yes' /><param name='language' value='en' /><param name='filter' value='publish=yes' /></object></div>                <script type='text/javascript'>                    var divElement = document.getElementById('viz1611346368173');                    var vizElement = divElement.getElementsByTagName('object')[0];                    if ( divElement.offsetWidth > 800 ) { vizElement.style.width='1000px';vizElement.style.height='627px';} else if ( divElement.offsetWidth > 500 ) { vizElement.style.width='1000px';vizElement.style.height='627px';} else { vizElement.style.width='100%';vizElement.style.height='727px';}                     var scriptElement = document.createElement('script');                    scriptElement.src = 'https://public.tableau.com/javascripts/api/viz_v1.js';                    vizElement.parentNode.insertBefore(scriptElement, vizElement);                </script>\n"
      ],
      "text/plain": [
       "<IPython.core.display.HTML object>"
      ]
     },
     "metadata": {},
     "output_type": "display_data"
    }
   ],
   "source": [
    "%%html\n",
    "<div class='tableauPlaceholder' id='viz1611346368173' style='position: relative'><noscript><a href='#'><img alt=' ' src='https:&#47;&#47;public.tableau.com&#47;static&#47;images&#47;SF&#47;SFCrime_16106615948520&#47;DifferenceinTotalCrimebyYear&#47;1_rss.png' style='border: none' /></a></noscript><object class='tableauViz'  style='display:none;'><param name='host_url' value='https%3A%2F%2Fpublic.tableau.com%2F' /> <param name='embed_code_version' value='3' /> <param name='site_root' value='' /><param name='name' value='SFCrime_16106615948520&#47;DifferenceinTotalCrimebyYear' /><param name='tabs' value='no' /><param name='toolbar' value='yes' /><param name='static_image' value='https:&#47;&#47;public.tableau.com&#47;static&#47;images&#47;SF&#47;SFCrime_16106615948520&#47;DifferenceinTotalCrimebyYear&#47;1.png' /> <param name='animate_transition' value='yes' /><param name='display_static_image' value='yes' /><param name='display_spinner' value='yes' /><param name='display_overlay' value='yes' /><param name='display_count' value='yes' /><param name='language' value='en' /><param name='filter' value='publish=yes' /></object></div>                <script type='text/javascript'>                    var divElement = document.getElementById('viz1611346368173');                    var vizElement = divElement.getElementsByTagName('object')[0];                    if ( divElement.offsetWidth > 800 ) { vizElement.style.width='1000px';vizElement.style.height='627px';} else if ( divElement.offsetWidth > 500 ) { vizElement.style.width='1000px';vizElement.style.height='627px';} else { vizElement.style.width='100%';vizElement.style.height='727px';}                     var scriptElement = document.createElement('script');                    scriptElement.src = 'https://public.tableau.com/javascripts/api/viz_v1.js';                    vizElement.parentNode.insertBefore(scriptElement, vizElement);                </script>"
   ]
  },
  {
   "cell_type": "markdown",
   "metadata": {},
   "source": [
    "There are a few observations that I would like to call out:\n",
    "- Although Larceny Theft continued to be the #1 crime, it still dropped a huge amount from 2019 to 2020.\n",
    "- Malicious Michief had very minimal change compared to other major categories.\n",
    "- Even though we saw a decrease in overall crime in 2020, three categories still saw increases in crime: Burglary, Motor Vehicle Theft, and Weapons Offense.\n",
    "- Lost Property dropped the most out of any category from 2019 to 2020.\n",
    "\n",
    "Below is just a general graph of the amount of crime reported per day for the entire year of 2020. You can click through the categories filter to see how each one changed before and after COVID-19 was declared a national emergency in March."
   ]
  },
  {
   "cell_type": "code",
   "execution_count": 162,
   "metadata": {},
   "outputs": [
    {
     "data": {
      "text/html": [
       "<div class='tableauPlaceholder' id='viz1611337012805' style='position: relative'><noscript><a href='#'><img alt=' ' src='https:&#47;&#47;public.tableau.com&#47;static&#47;images&#47;SF&#47;SFCrime_16106615948520&#47;DailyCategoryCrimeDash&#47;1_rss.png' style='border: none' /></a></noscript><object class='tableauViz'  style='display:none;'><param name='host_url' value='https%3A%2F%2Fpublic.tableau.com%2F' /> <param name='embed_code_version' value='3' /> <param name='site_root' value='' /><param name='name' value='SFCrime_16106615948520&#47;DailyCategoryCrimeDash' /><param name='tabs' value='no' /><param name='toolbar' value='yes' /><param name='static_image' value='https:&#47;&#47;public.tableau.com&#47;static&#47;images&#47;SF&#47;SFCrime_16106615948520&#47;DailyCategoryCrimeDash&#47;1.png' /> <param name='animate_transition' value='yes' /><param name='display_static_image' value='yes' /><param name='display_spinner' value='yes' /><param name='display_overlay' value='yes' /><param name='display_count' value='yes' /><param name='language' value='en' /></object></div>                <script type='text/javascript'>                    var divElement = document.getElementById('viz1611337012805');                    var vizElement = divElement.getElementsByTagName('object')[0];                    if ( divElement.offsetWidth > 800 ) { vizElement.style.width='1000px';vizElement.style.height='627px';} else if ( divElement.offsetWidth > 500 ) { vizElement.style.width='1000px';vizElement.style.height='627px';} else { vizElement.style.width='100%';vizElement.style.height='727px';}                     var scriptElement = document.createElement('script');                    scriptElement.src = 'https://public.tableau.com/javascripts/api/viz_v1.js';                    vizElement.parentNode.insertBefore(scriptElement, vizElement);                </script>\n"
      ],
      "text/plain": [
       "<IPython.core.display.HTML object>"
      ]
     },
     "metadata": {},
     "output_type": "display_data"
    }
   ],
   "source": [
    "%%html\n",
    "<div class='tableauPlaceholder' id='viz1611337012805' style='position: relative'><noscript><a href='#'><img alt=' ' src='https:&#47;&#47;public.tableau.com&#47;static&#47;images&#47;SF&#47;SFCrime_16106615948520&#47;DailyCategoryCrimeDash&#47;1_rss.png' style='border: none' /></a></noscript><object class='tableauViz'  style='display:none;'><param name='host_url' value='https%3A%2F%2Fpublic.tableau.com%2F' /> <param name='embed_code_version' value='3' /> <param name='site_root' value='' /><param name='name' value='SFCrime_16106615948520&#47;DailyCategoryCrimeDash' /><param name='tabs' value='no' /><param name='toolbar' value='yes' /><param name='static_image' value='https:&#47;&#47;public.tableau.com&#47;static&#47;images&#47;SF&#47;SFCrime_16106615948520&#47;DailyCategoryCrimeDash&#47;1.png' /> <param name='animate_transition' value='yes' /><param name='display_static_image' value='yes' /><param name='display_spinner' value='yes' /><param name='display_overlay' value='yes' /><param name='display_count' value='yes' /><param name='language' value='en' /></object></div>                <script type='text/javascript'>                    var divElement = document.getElementById('viz1611337012805');                    var vizElement = divElement.getElementsByTagName('object')[0];                    if ( divElement.offsetWidth > 800 ) { vizElement.style.width='1000px';vizElement.style.height='627px';} else if ( divElement.offsetWidth > 500 ) { vizElement.style.width='1000px';vizElement.style.height='627px';} else { vizElement.style.width='100%';vizElement.style.height='727px';}                     var scriptElement = document.createElement('script');                    scriptElement.src = 'https://public.tableau.com/javascripts/api/viz_v1.js';                    vizElement.parentNode.insertBefore(scriptElement, vizElement);                </script>"
   ]
  },
  {
   "cell_type": "markdown",
   "metadata": {},
   "source": [
    "Now I want to look at how the rankings of the top 15 crime categories have changed over the course of the years by comparing the number of crimes committed in January to the number committed in December."
   ]
  },
  {
   "cell_type": "code",
   "execution_count": 163,
   "metadata": {},
   "outputs": [
    {
     "data": {
      "text/html": [
       "<div class='tableauPlaceholder' id='viz1611337167602' style='position: relative'><noscript><a href='#'><img alt=' ' src='https:&#47;&#47;public.tableau.com&#47;static&#47;images&#47;SF&#47;SFCrime_16106615948520&#47;CategoryRankbyYearDash&#47;1_rss.png' style='border: none' /></a></noscript><object class='tableauViz'  style='display:none;'><param name='host_url' value='https%3A%2F%2Fpublic.tableau.com%2F' /> <param name='embed_code_version' value='3' /> <param name='site_root' value='' /><param name='name' value='SFCrime_16106615948520&#47;CategoryRankbyYearDash' /><param name='tabs' value='no' /><param name='toolbar' value='yes' /><param name='static_image' value='https:&#47;&#47;public.tableau.com&#47;static&#47;images&#47;SF&#47;SFCrime_16106615948520&#47;CategoryRankbyYearDash&#47;1.png' /> <param name='animate_transition' value='yes' /><param name='display_static_image' value='yes' /><param name='display_spinner' value='yes' /><param name='display_overlay' value='yes' /><param name='display_count' value='yes' /><param name='language' value='en' /></object></div>                <script type='text/javascript'>                    var divElement = document.getElementById('viz1611337167602');                    var vizElement = divElement.getElementsByTagName('object')[0];                    if ( divElement.offsetWidth > 800 ) { vizElement.style.width='1000px';vizElement.style.height='627px';} else if ( divElement.offsetWidth > 500 ) { vizElement.style.width='1000px';vizElement.style.height='627px';} else { vizElement.style.width='100%';vizElement.style.height='727px';}                     var scriptElement = document.createElement('script');                    scriptElement.src = 'https://public.tableau.com/javascripts/api/viz_v1.js';                    vizElement.parentNode.insertBefore(scriptElement, vizElement);                </script>\n"
      ],
      "text/plain": [
       "<IPython.core.display.HTML object>"
      ]
     },
     "metadata": {},
     "output_type": "display_data"
    }
   ],
   "source": [
    "%%html\n",
    "<div class='tableauPlaceholder' id='viz1611337167602' style='position: relative'><noscript><a href='#'><img alt=' ' src='https:&#47;&#47;public.tableau.com&#47;static&#47;images&#47;SF&#47;SFCrime_16106615948520&#47;CategoryRankbyYearDash&#47;1_rss.png' style='border: none' /></a></noscript><object class='tableauViz'  style='display:none;'><param name='host_url' value='https%3A%2F%2Fpublic.tableau.com%2F' /> <param name='embed_code_version' value='3' /> <param name='site_root' value='' /><param name='name' value='SFCrime_16106615948520&#47;CategoryRankbyYearDash' /><param name='tabs' value='no' /><param name='toolbar' value='yes' /><param name='static_image' value='https:&#47;&#47;public.tableau.com&#47;static&#47;images&#47;SF&#47;SFCrime_16106615948520&#47;CategoryRankbyYearDash&#47;1.png' /> <param name='animate_transition' value='yes' /><param name='display_static_image' value='yes' /><param name='display_spinner' value='yes' /><param name='display_overlay' value='yes' /><param name='display_count' value='yes' /><param name='language' value='en' /></object></div>                <script type='text/javascript'>                    var divElement = document.getElementById('viz1611337167602');                    var vizElement = divElement.getElementsByTagName('object')[0];                    if ( divElement.offsetWidth > 800 ) { vizElement.style.width='1000px';vizElement.style.height='627px';} else if ( divElement.offsetWidth > 500 ) { vizElement.style.width='1000px';vizElement.style.height='627px';} else { vizElement.style.width='100%';vizElement.style.height='727px';}                     var scriptElement = document.createElement('script');                    scriptElement.src = 'https://public.tableau.com/javascripts/api/viz_v1.js';                    vizElement.parentNode.insertBefore(scriptElement, vizElement);                </script>"
   ]
  },
  {
   "cell_type": "markdown",
   "metadata": {},
   "source": [
    "For 2018 and 2019, there are some changes in the ranks from January to December. However the changes are not as dramatic as the ranking changes we see in 2020. About half or fewer of the categories switched ranks in 2018 and 2019, and only by 1 or 2 spots. In 2020, the rankings of all of the top 15 categories, except for Larceny Theft, have changed over the course of the year. Some categories even jumped anywhere from 3 to 6 spots.\n",
    "\n",
    "Let's look at 2020 month by month to see how the start of the pandemic may have affected which crime categories were more prevalent."
   ]
  },
  {
   "cell_type": "code",
   "execution_count": 164,
   "metadata": {},
   "outputs": [
    {
     "data": {
      "text/html": [
       "<div class='tableauPlaceholder' id='viz1611117566565' style='position: relative'><noscript><a href='#'><img alt=' ' src='https:&#47;&#47;public.tableau.com&#47;static&#47;images&#47;SF&#47;SFCrime_16106615948520&#47;CrimeCategoryRankDash&#47;1_rss.png' style='border: none' /></a></noscript><object class='tableauViz'  style='display:none;'><param name='host_url' value='https%3A%2F%2Fpublic.tableau.com%2F' /> <param name='embed_code_version' value='3' /> <param name='site_root' value='' /><param name='name' value='SFCrime_16106615948520&#47;CrimeCategoryRankDash' /><param name='tabs' value='no' /><param name='toolbar' value='yes' /><param name='static_image' value='https:&#47;&#47;public.tableau.com&#47;static&#47;images&#47;SF&#47;SFCrime_16106615948520&#47;CrimeCategoryRankDash&#47;1.png' /> <param name='animate_transition' value='yes' /><param name='display_static_image' value='yes' /><param name='display_spinner' value='yes' /><param name='display_overlay' value='yes' /><param name='display_count' value='yes' /><param name='language' value='en' /></object></div>                <script type='text/javascript'>                    var divElement = document.getElementById('viz1611117566565');                    var vizElement = divElement.getElementsByTagName('object')[0];                    if ( divElement.offsetWidth > 800 ) { vizElement.style.width='100%';vizElement.style.height=(divElement.offsetWidth*0.75)+'px';} else if ( divElement.offsetWidth > 500 ) { vizElement.style.width='100%';vizElement.style.height=(divElement.offsetWidth*0.75)+'px';} else { vizElement.style.width='100%';vizElement.style.height='977px';}                     var scriptElement = document.createElement('script');                    scriptElement.src = 'https://public.tableau.com/javascripts/api/viz_v1.js';                    vizElement.parentNode.insertBefore(scriptElement, vizElement);                </script>\n"
      ],
      "text/plain": [
       "<IPython.core.display.HTML object>"
      ]
     },
     "metadata": {},
     "output_type": "display_data"
    }
   ],
   "source": [
    "%%html\n",
    "<div class='tableauPlaceholder' id='viz1611117566565' style='position: relative'><noscript><a href='#'><img alt=' ' src='https:&#47;&#47;public.tableau.com&#47;static&#47;images&#47;SF&#47;SFCrime_16106615948520&#47;CrimeCategoryRankDash&#47;1_rss.png' style='border: none' /></a></noscript><object class='tableauViz'  style='display:none;'><param name='host_url' value='https%3A%2F%2Fpublic.tableau.com%2F' /> <param name='embed_code_version' value='3' /> <param name='site_root' value='' /><param name='name' value='SFCrime_16106615948520&#47;CrimeCategoryRankDash' /><param name='tabs' value='no' /><param name='toolbar' value='yes' /><param name='static_image' value='https:&#47;&#47;public.tableau.com&#47;static&#47;images&#47;SF&#47;SFCrime_16106615948520&#47;CrimeCategoryRankDash&#47;1.png' /> <param name='animate_transition' value='yes' /><param name='display_static_image' value='yes' /><param name='display_spinner' value='yes' /><param name='display_overlay' value='yes' /><param name='display_count' value='yes' /><param name='language' value='en' /></object></div>                <script type='text/javascript'>                    var divElement = document.getElementById('viz1611117566565');                    var vizElement = divElement.getElementsByTagName('object')[0];                    if ( divElement.offsetWidth > 800 ) { vizElement.style.width='100%';vizElement.style.height=(divElement.offsetWidth*0.75)+'px';} else if ( divElement.offsetWidth > 500 ) { vizElement.style.width='100%';vizElement.style.height=(divElement.offsetWidth*0.75)+'px';} else { vizElement.style.width='100%';vizElement.style.height='977px';}                     var scriptElement = document.createElement('script');                    scriptElement.src = 'https://public.tableau.com/javascripts/api/viz_v1.js';                    vizElement.parentNode.insertBefore(scriptElement, vizElement);                </script>"
   ]
  },
  {
   "cell_type": "markdown",
   "metadata": {},
   "source": [
    "We see a lot of volatility in March and April. Most notably:\n",
    "- Burglary and Motor Vehicle Theft have taken the #2 and #3 ranks, respectively\n",
    "- Lost Property dropped from #7 all the way down to #11 and continued to rank low for the rest of the year\n",
    "- Fraud's ranking went up starting in March, and was #6 before drastically dropping to #10 in the last 2 months of 2020\n",
    "- Robbery initially went down in March, and continued to rank #10 until the very end of the year where it jumped to #6\n",
    "- Offences Against the Family and Children moved up 4 ranks March - April. Although its rank dropped a bit, the final 2020 ranking is still higher than it was in the beginning of the year\n",
    "\n",
    "I am also interested in comparing the percentage makeup of crime by category throughout the years."
   ]
  },
  {
   "cell_type": "markdown",
   "metadata": {},
   "source": [
    "To gain a better understanding of why COVID-19 and restrictions may have caused changes in these crime categories for 2020, I want to look closer at what the sub-categories of these crimes are."
   ]
  },
  {
   "cell_type": "code",
   "execution_count": 165,
   "metadata": {},
   "outputs": [
    {
     "data": {
      "text/html": [
       "<div class='tableauPlaceholder' id='viz1611282165756' style='position: relative'><noscript><a href='#'><img alt=' ' src='https:&#47;&#47;public.tableau.com&#47;static&#47;images&#47;SF&#47;SFCrime_16106615948520&#47;CrimeSubcategoriesDash&#47;1_rss.png' style='border: none' /></a></noscript><object class='tableauViz'  style='display:none;'><param name='host_url' value='https%3A%2F%2Fpublic.tableau.com%2F' /> <param name='embed_code_version' value='3' /> <param name='site_root' value='' /><param name='name' value='SFCrime_16106615948520&#47;CrimeSubcategoriesDash' /><param name='tabs' value='no' /><param name='toolbar' value='yes' /><param name='static_image' value='https:&#47;&#47;public.tableau.com&#47;static&#47;images&#47;SF&#47;SFCrime_16106615948520&#47;CrimeSubcategoriesDash&#47;1.png' /> <param name='animate_transition' value='yes' /><param name='display_static_image' value='yes' /><param name='display_spinner' value='yes' /><param name='display_overlay' value='yes' /><param name='display_count' value='yes' /><param name='language' value='en' /><param name='filter' value='publish=yes' /></object></div>                <script type='text/javascript'>                    var divElement = document.getElementById('viz1611282165756');                    var vizElement = divElement.getElementsByTagName('object')[0];                    if ( divElement.offsetWidth > 800 ) { vizElement.style.width='1000px';vizElement.style.height='727px';} else if ( divElement.offsetWidth > 500 ) { vizElement.style.width='1000px';vizElement.style.height='727px';} else { vizElement.style.width='100%';vizElement.style.height='877px';}                     var scriptElement = document.createElement('script');                    scriptElement.src = 'https://public.tableau.com/javascripts/api/viz_v1.js';                    vizElement.parentNode.insertBefore(scriptElement, vizElement);                </script>\n"
      ],
      "text/plain": [
       "<IPython.core.display.HTML object>"
      ]
     },
     "metadata": {},
     "output_type": "display_data"
    }
   ],
   "source": [
    "%%html\n",
    "<div class='tableauPlaceholder' id='viz1611282165756' style='position: relative'><noscript><a href='#'><img alt=' ' src='https:&#47;&#47;public.tableau.com&#47;static&#47;images&#47;SF&#47;SFCrime_16106615948520&#47;CrimeSubcategoriesDash&#47;1_rss.png' style='border: none' /></a></noscript><object class='tableauViz'  style='display:none;'><param name='host_url' value='https%3A%2F%2Fpublic.tableau.com%2F' /> <param name='embed_code_version' value='3' /> <param name='site_root' value='' /><param name='name' value='SFCrime_16106615948520&#47;CrimeSubcategoriesDash' /><param name='tabs' value='no' /><param name='toolbar' value='yes' /><param name='static_image' value='https:&#47;&#47;public.tableau.com&#47;static&#47;images&#47;SF&#47;SFCrime_16106615948520&#47;CrimeSubcategoriesDash&#47;1.png' /> <param name='animate_transition' value='yes' /><param name='display_static_image' value='yes' /><param name='display_spinner' value='yes' /><param name='display_overlay' value='yes' /><param name='display_count' value='yes' /><param name='language' value='en' /><param name='filter' value='publish=yes' /></object></div>                <script type='text/javascript'>                    var divElement = document.getElementById('viz1611282165756');                    var vizElement = divElement.getElementsByTagName('object')[0];                    if ( divElement.offsetWidth > 800 ) { vizElement.style.width='1000px';vizElement.style.height='727px';} else if ( divElement.offsetWidth > 500 ) { vizElement.style.width='1000px';vizElement.style.height='727px';} else { vizElement.style.width='100%';vizElement.style.height='877px';}                     var scriptElement = document.createElement('script');                    scriptElement.src = 'https://public.tableau.com/javascripts/api/viz_v1.js';                    vizElement.parentNode.insertBefore(scriptElement, vizElement);                </script>"
   ]
  },
  {
   "cell_type": "markdown",
   "metadata": {},
   "source": [
    "##### Changes by crime category and personal theories:\n",
    "- **Burglary:** Starting in April we see an increase in crime in all subcategories. The large increase in Commercial Burglary in May coincides with when individuals were taking advantage of the BLM protests and breaking into stores. It's strange that residential burglaries would go up during a period when a majority of people are stuck in their homes. I wonder if more burglaries were noticed and reported because more people were staying at home. In researching some criminology, it seems there are two different theories when it comes to crime: “opportunity theory” and “strain theory”. Opportunity theory speculates that crime will go down because restrictions prevent opportunities for crime. On the other hand, strain theory speculates that crime will go up because socioeconomic strains will push people to commit more crimes out of necessity. I wonder if the increase we're seeing with burglaries in San Francisco is a result of strain opportunity. San Francisco has a huge divide in wealth due to the tech bubble. Even without a recession and job losses, many in the city are unable to afford living there. I imagine a lockdown and record job losses just exacerbates the problem.\n",
    "<br><br>\n",
    "- **Fraud:** One of the largest categories, False Personation, stays at similar levels to previous years until Nov-Dec. However, starting in March, we see a drop in what is usually one of the largest categories of fraud: Access Card, incl. Credit, Phone, ATM, Fraudulent Use of. We also see a drop in Fraudulent Use of Automated Teller Card. It seems that since people are out less, and thus using their credit and debit cards less frequently, opportunities for these types of fraud have gone down.\n",
    "<br><br>\n",
    "- **Larceny Theft:** Although we see a decrease across most subcategories, the most noticable changes are to theft from vehicle and other theft. It seems that since there are fewer people out and about, there are much fewer opportunities for theives. This could correlate with the increase in home burglaries. Because theives are unable to pickpocket out on the streets, they have to resort to breaking into homes.\n",
    "<br><br>\n",
    "- **Lost Property:** So this may not actually be categorized under crimes. However the decrease in lost property being reported could be similar to the reason for Larceny Theft's decrease: everyone is confined to their homes, therefore there are fewer opportunities to lose anything.\n",
    "<br><br>\n",
    "- **Malicious Mischief:** It doesn't seem like there is much of a change in the amount of Malicious Mischief compared to previous years. I guess if someone is going to go out and break the law, they aren't going to follow restrictions anyways. Social restrictions don't reduce the number of things to vandalize.\n",
    "<br><br>\n",
    "- **Motor Vehicle Theft:** This category saw a surge going into the summer, and again at the end of the year. With a majority of people stuck at home with nowhere to go, many cars are probably left unattended for weeks at a time. This gives thieves a higher chance of stealing cars while going unnoticed. \n",
    "<br><br>\n",
    "- **Robbery:** We see an overall decrease in Robbery, but Commercial Robbery seems to stay at about the same levels as previous years. While there were fewer opportunities for pedestrian robberies during the pandemic, many stores that were deemed essential were open and thus still targets for robberies. In November and December we actually see Commercial Robberies double. I wonder if this could be related to the criminology \"strain theory\" as more and more people are desperate to support themselves. Or maybe restrictions were lifted for some more stores, thus more opportunities given for robberies.\n",
    "\n"
   ]
  },
  {
   "cell_type": "markdown",
   "metadata": {},
   "source": [
    "## Crime by Hour\n",
    "Finally I want to look at what times crimes were more likely to occur and how this differs in 2020 from past years."
   ]
  },
  {
   "cell_type": "code",
   "execution_count": 166,
   "metadata": {},
   "outputs": [
    {
     "data": {
      "text/html": [
       "<div class='tableauPlaceholder' id='viz1611344718527' style='position: relative'><noscript><a href='#'><img alt=' ' src='https:&#47;&#47;public.tableau.com&#47;static&#47;images&#47;SF&#47;SFCrime_16106615948520&#47;CrimebyHourDash&#47;1_rss.png' style='border: none' /></a></noscript><object class='tableauViz'  style='display:none;'><param name='host_url' value='https%3A%2F%2Fpublic.tableau.com%2F' /> <param name='embed_code_version' value='3' /> <param name='site_root' value='' /><param name='name' value='SFCrime_16106615948520&#47;CrimebyHourDash' /><param name='tabs' value='no' /><param name='toolbar' value='yes' /><param name='static_image' value='https:&#47;&#47;public.tableau.com&#47;static&#47;images&#47;SF&#47;SFCrime_16106615948520&#47;CrimebyHourDash&#47;1.png' /> <param name='animate_transition' value='yes' /><param name='display_static_image' value='yes' /><param name='display_spinner' value='yes' /><param name='display_overlay' value='yes' /><param name='display_count' value='yes' /><param name='language' value='en' /><param name='filter' value='publish=yes' /></object></div>                <script type='text/javascript'>                    var divElement = document.getElementById('viz1611344718527');                    var vizElement = divElement.getElementsByTagName('object')[0];                    if ( divElement.offsetWidth > 800 ) { vizElement.style.width='1000px';vizElement.style.height='627px';} else if ( divElement.offsetWidth > 500 ) { vizElement.style.width='1000px';vizElement.style.height='627px';} else { vizElement.style.width='100%';vizElement.style.height='777px';}                     var scriptElement = document.createElement('script');                    scriptElement.src = 'https://public.tableau.com/javascripts/api/viz_v1.js';                    vizElement.parentNode.insertBefore(scriptElement, vizElement);                </script>\n"
      ],
      "text/plain": [
       "<IPython.core.display.HTML object>"
      ]
     },
     "metadata": {},
     "output_type": "display_data"
    }
   ],
   "source": [
    "%%html\n",
    "<div class='tableauPlaceholder' id='viz1611344718527' style='position: relative'><noscript><a href='#'><img alt=' ' src='https:&#47;&#47;public.tableau.com&#47;static&#47;images&#47;SF&#47;SFCrime_16106615948520&#47;CrimebyHourDash&#47;1_rss.png' style='border: none' /></a></noscript><object class='tableauViz'  style='display:none;'><param name='host_url' value='https%3A%2F%2Fpublic.tableau.com%2F' /> <param name='embed_code_version' value='3' /> <param name='site_root' value='' /><param name='name' value='SFCrime_16106615948520&#47;CrimebyHourDash' /><param name='tabs' value='no' /><param name='toolbar' value='yes' /><param name='static_image' value='https:&#47;&#47;public.tableau.com&#47;static&#47;images&#47;SF&#47;SFCrime_16106615948520&#47;CrimebyHourDash&#47;1.png' /> <param name='animate_transition' value='yes' /><param name='display_static_image' value='yes' /><param name='display_spinner' value='yes' /><param name='display_overlay' value='yes' /><param name='display_count' value='yes' /><param name='language' value='en' /><param name='filter' value='publish=yes' /></object></div>                <script type='text/javascript'>                    var divElement = document.getElementById('viz1611344718527');                    var vizElement = divElement.getElementsByTagName('object')[0];                    if ( divElement.offsetWidth > 800 ) { vizElement.style.width='1000px';vizElement.style.height='627px';} else if ( divElement.offsetWidth > 500 ) { vizElement.style.width='1000px';vizElement.style.height='627px';} else { vizElement.style.width='100%';vizElement.style.height='777px';}                     var scriptElement = document.createElement('script');                    scriptElement.src = 'https://public.tableau.com/javascripts/api/viz_v1.js';                    vizElement.parentNode.insertBefore(scriptElement, vizElement);                </script>"
   ]
  },
  {
   "cell_type": "markdown",
   "metadata": {},
   "source": [
    "Crime generally follows the same flow in 2020 as in previous years. However there's a noticable increase in crime in the early morning hours from 2am to 6am. We also see a decrease in crime from 5pm to 8pm (17-20). When looking at the categories individually, I see 2 noticable changes from 2018/2019 to 2020 that would cause this change in hourly crime:\n",
    "1. Larceny Theft decreased by ~38.5% from 2019 to 2020. Since this category made up a majority of the crime in the afternoon and evening, the large drop in crime significantly impacted the distribution of crime throughout the day.\n",
    "2. Burglary was one of the few categories to increase in 2020. It seems that because most people were staying at home, residential buglaries increased during the early morning hours, when most people would be sleeping."
   ]
  },
  {
   "cell_type": "markdown",
   "metadata": {},
   "source": [
    "## Summary and Take-Aways\n",
    "\n",
    "With the onset of the COVID-19 pandemic combined with changes to social and economic norms, we see two popular criminology theories at play in San Francisco: Opportunity Theory and Strain Theory. Opportunity theory speculates that crime will go down because restrictions prevent opportunities for crime. On the other hand, strain theory proposes that crime will go up because socioeconomic strains will push people to commit more crimes out of necessity. \n",
    "<br><br>\n",
    "**Opportunity Theory**<br>\n",
    "We do see an overall decrease in crime in 2020 due to lack of opportunties. This is especially evident in crime categories such as larceny theft, assault, street robberies, disorderly conduct, and traffic violations. As more people are confined to their homes, there are much fewer targets for criminals. As a result, the amount of crime in many of categories dropped by 20% or more from 2019. Larceny theft, the largest category by number of reports, dropped by 38.5%. This massive drop caused overall crime in SF to be around 23% less than the amount of crime in 2018 and 2019. One category actually did not see much of a change from previous years to 2020: malicious mischief. The main subcategory for malicious mischief is vandalism. For this category, I believe it remained unchanged in 2020 because these types of crimes can still be done even if a majority of people are stuck at home. Thus, the opportunity was still there. The types of people who would commit vandalism may also be the types who wouldn't follow government lockdown guidelines.\n",
    "<br><br>\n",
    "**Strain Theory**<br>\n",
    "There are just a few crime categories that actually increased due to pandemic restrictions, namely, burglary, motor vehicle theft, and commercial robbery. There is already enormous wealth inequality in San Francisco. With record job losses and very little government assistance, some who are at the bottom of the socioeconomic ladder may find themselves even more desperate to commit crimes.\n",
    "- Initially, I found it strange that number of residential buglaries would have increased during a time when most people are in their homes. Wouldn't there be a higher chance of getting caught now? However, after digging in a little deeper, it seems that many of these buglaries are occurring in the very early morning hours from midnight to 6am, when most people would be sleeping. The number of burglaries from midnight to 6am increased by 79% from 2019 while burglaries during the day increased by 35%. This change in burglary patterns slightly changed the overall distribution of crime throughout the day. Now a slightly larger portion of crime occurs from 2am to 6am due to the increase in home burglaries (in addition to the decrease in larceny theft that usually occurred in the afternoon). Criminals have to resort to robbing homes in the middle of the night because it is now their only option.\n",
    "- Although there were probably fewer cars out on the street, car jacking was much higher in 2020 than in previous years. There is a theory that because everyone is wearing masks, car jackers are less worried about being recognized when they approach a car. I also speculate that because cars are being left unattended for longer periods of time, car jackers are able to break into these parked cars without fear of getting caught in the act.\n",
    "- Commercial robbery was actually lower in the early half of the pandemic, as any store that wasn't deemed essential was forced to stay closed. However, near the end of the year, we see commercial robbery increase as some restrictions on shops were lifted and additional government assistance about to end.\n",
    "    \n",
    "   \n",
    "Because of pandemic-related restrictions, we see a lot of volatility in which categories of crime are more prevalent in 2020, especially in March and April when lockdowns were the most strict. In 2018 and 2019, larceny theft, assault, and malicious mischief consistently made up the top 3 crimes committed in San Francisco. However by the end of 2020, burglary and motor vehicle theft eventually took over as 2nd and 3rd, leaving larceny theft still as #1."
   ]
  },
  {
   "cell_type": "code",
   "execution_count": null,
   "metadata": {},
   "outputs": [],
   "source": []
  }
 ],
 "metadata": {
  "kernelspec": {
   "display_name": "Python 3",
   "language": "python",
   "name": "python3"
  },
  "language_info": {
   "codemirror_mode": {
    "name": "ipython",
    "version": 3
   },
   "file_extension": ".py",
   "mimetype": "text/x-python",
   "name": "python",
   "nbconvert_exporter": "python",
   "pygments_lexer": "ipython3",
   "version": "3.8.5"
  }
 },
 "nbformat": 4,
 "nbformat_minor": 4
}
